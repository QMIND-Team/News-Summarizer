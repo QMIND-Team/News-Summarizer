{
  "nbformat": 4,
  "nbformat_minor": 0,
  "metadata": {
    "colab": {
      "name": "NewsSummarizer.ipynb",
      "provenance": [],
      "collapsed_sections": []
    },
    "kernelspec": {
      "name": "python3",
      "display_name": "Python 3"
    }
  },
  "cells": [
    {
      "cell_type": "code",
      "metadata": {
        "id": "0IJgUQQaAfv_",
        "colab_type": "code",
        "outputId": "bd8403bc-9dd3-4ac6-c7c6-b7bf7c52b75d",
        "colab": {
          "base_uri": "https://localhost:8080/",
          "height": 513
        }
      },
      "source": [
        "!pip install requests\n",
        "!pip install bs4\n",
        "!pip install selenium\n",
        "!pip install user_agents\n",
        "!pip install flask\n",
        "!pip install pyautogui\n",
        "\n",
        "import requests\n",
        "\n",
        "import webbrowser\n",
        "from bs4 import BeautifulSoup\n",
        "from flask import request\n",
        "import selenium\n",
        "from user_agents import parse\n"
      ],
      "execution_count": 0,
      "outputs": [
        {
          "output_type": "stream",
          "text": [
            "Requirement already satisfied: requests in /usr/local/lib/python3.6/dist-packages (2.21.0)\n",
            "Requirement already satisfied: idna<2.9,>=2.5 in /usr/local/lib/python3.6/dist-packages (from requests) (2.8)\n",
            "Requirement already satisfied: urllib3<1.25,>=1.21.1 in /usr/local/lib/python3.6/dist-packages (from requests) (1.24.3)\n",
            "Requirement already satisfied: certifi>=2017.4.17 in /usr/local/lib/python3.6/dist-packages (from requests) (2019.11.28)\n",
            "Requirement already satisfied: chardet<3.1.0,>=3.0.2 in /usr/local/lib/python3.6/dist-packages (from requests) (3.0.4)\n",
            "Requirement already satisfied: bs4 in /usr/local/lib/python3.6/dist-packages (0.0.1)\n",
            "Requirement already satisfied: beautifulsoup4 in /usr/local/lib/python3.6/dist-packages (from bs4) (4.6.3)\n",
            "Requirement already satisfied: selenium in /usr/local/lib/python3.6/dist-packages (3.141.0)\n",
            "Requirement already satisfied: urllib3 in /usr/local/lib/python3.6/dist-packages (from selenium) (1.24.3)\n",
            "Requirement already satisfied: user_agents in /usr/local/lib/python3.6/dist-packages (2.0)\n",
            "Requirement already satisfied: ua-parser>=0.8.0 in /usr/local/lib/python3.6/dist-packages (from user_agents) (0.8.0)\n",
            "Requirement already satisfied: flask in /usr/local/lib/python3.6/dist-packages (1.1.1)\n",
            "Requirement already satisfied: itsdangerous>=0.24 in /usr/local/lib/python3.6/dist-packages (from flask) (1.1.0)\n",
            "Requirement already satisfied: Werkzeug>=0.15 in /usr/local/lib/python3.6/dist-packages (from flask) (0.16.0)\n",
            "Requirement already satisfied: click>=5.1 in /usr/local/lib/python3.6/dist-packages (from flask) (7.0)\n",
            "Requirement already satisfied: Jinja2>=2.10.1 in /usr/local/lib/python3.6/dist-packages (from flask) (2.10.3)\n",
            "Requirement already satisfied: MarkupSafe>=0.23 in /usr/local/lib/python3.6/dist-packages (from Jinja2>=2.10.1->flask) (1.1.1)\n",
            "Requirement already satisfied: pyautogui in /usr/local/lib/python3.6/dist-packages (0.9.48)\n",
            "Requirement already satisfied: pygetwindow>=0.0.5 in /usr/local/lib/python3.6/dist-packages (from pyautogui) (0.0.8)\n",
            "Requirement already satisfied: python3-Xlib; platform_system == \"Linux\" and python_version >= \"3.0\" in /usr/local/lib/python3.6/dist-packages (from pyautogui) (0.15)\n",
            "Requirement already satisfied: mouseinfo in /usr/local/lib/python3.6/dist-packages (from pyautogui) (0.1.2)\n",
            "Requirement already satisfied: pyscreeze>=0.1.21 in /usr/local/lib/python3.6/dist-packages (from pyautogui) (0.1.26)\n",
            "Requirement already satisfied: PyTweening>=1.0.1 in /usr/local/lib/python3.6/dist-packages (from pyautogui) (1.0.3)\n",
            "Requirement already satisfied: pymsgbox in /usr/local/lib/python3.6/dist-packages (from pyautogui) (1.0.7)\n",
            "Requirement already satisfied: pyrect in /usr/local/lib/python3.6/dist-packages (from pygetwindow>=0.0.5->pyautogui) (0.1.4)\n",
            "Requirement already satisfied: Pillow>=4.0.0; python_version == \"3.6\" in /usr/local/lib/python3.6/dist-packages (from mouseinfo->pyautogui) (6.2.2)\n",
            "Requirement already satisfied: pyperclip in /usr/local/lib/python3.6/dist-packages (from mouseinfo->pyautogui) (1.7.0)\n"
          ],
          "name": "stdout"
        }
      ]
    },
    {
      "cell_type": "code",
      "metadata": {
        "id": "OsnAzLlxfKxx",
        "colab_type": "code",
        "colab": {}
      },
      "source": [
        "import pyautogui\n",
        "import time\n",
        "\n",
        "def get_url():\n",
        "  #click anywhere on the webpage to focus on the tab\n",
        "  pyautogui.click(0,200)\n",
        "  #in case the location clicked was a link object, wait until page refreshes\n",
        "  time.sleep(4)\n",
        "  pyautogui.press('f6')\n",
        "  pyautogui.hotkey('ctrl', 'c')\n",
        "  #get the copied url from the clipboard and pass it through to the\n",
        "  #news_summarizer function\n",
        "  url = pyperclip.paste()\n",
        "  #news_summarizer(url)\n",
        "  return url"
      ],
      "execution_count": 0,
      "outputs": []
    },
    {
      "cell_type": "code",
      "metadata": {
        "id": "BjESg2CNAM6J",
        "colab_type": "code",
        "colab": {}
      },
      "source": [
        "\n",
        "\n",
        "def news_summarizer(url):\n",
        "    article = \"\"\n",
        "    #calls a response type object from the URL given.\n",
        "    page = requests.get(url)\n",
        "    #parse the HTML from the response object with BeautifulSoup's html parser\n",
        "    soup = BeautifulSoup(page.content, 'html.parser')\n",
        "    #first try to find all tags with <p/> that have a \"c-article body text\" class, this will filter all text\n",
        "    # not related to the article. If the page is not structured with such id, just parse all <p/> tags.\n",
        "    #try:\n",
        "\n",
        "    \n",
        "    exception1 = \"cnn.com\"\n",
        "    exception2 = \"thestar.com\"\n",
        "    exception3 = \"bbc.com\"\n",
        "    exception4 = \"economist.com\"\n",
        "    exception5 = \"usatoday.com\"\n",
        "    exception6 = \"politico.com\"\n",
        "\n",
        "\n",
        "    #If CNN article:\n",
        "    if exception1 in url:\n",
        "      paragraphs = soup.find_all('div', \"zn-body__paragraph\")\n",
        "\n",
        "    #if the Toronto Star article:\n",
        "    elif exception2 in url:\n",
        "      paragraphs = soup.find_all('p', \"text-block-container\")\n",
        "    \n",
        "    #if BBC article:\n",
        "    elif exception3 in url:\n",
        "      paragraphs = soup.find_all('div', 'lx-stream-post-body' )\n",
        "\n",
        "    #if Economist article:\n",
        "    elif exception4 in url:\n",
        "      paragraphs = soup.find_all('p', 'article__body-text')\n",
        "    \n",
        "    #if USAToday article:\n",
        "    elif exception5 in url:\n",
        "      paragraphs = soup.find_all('p', 'gnt_ar_b_p')\n",
        "\n",
        "    elif exception6 in url:\n",
        "      paragraphs = soup.find_all('p', ' story-text__paragraph')\n",
        "    \n",
        "\n",
        "    \n",
        "\n",
        "# Generic case\n",
        "    else:\n",
        "    # If just about any other news site:\n",
        "     paragraphs = soup.find_all('p')\n",
        "  \n",
        "    #concatenate all paragraphs together into one large string to pass through to the mode\n",
        "    for paragraph in paragraphs:\n",
        "        #drop all HTML tags and convert to string\n",
        "        paragraph = paragraph.get_text()\n",
        "        if (\".\" in paragraph):\n",
        "            article += paragraph\n",
        "    print((article))\n",
        "    print(len(article))\n",
        "    return article\n",
        "  \n"
      ],
      "execution_count": 0,
      "outputs": []
    },
    {
      "cell_type": "code",
      "metadata": {
        "id": "YSeN2R4ICy8M",
        "colab_type": "code",
        "outputId": "447b6210-0f77-4eab-d382-3e002b9c689a",
        "colab": {
          "base_uri": "https://localhost:8080/",
          "height": 92
        }
      },
      "source": [
        "url = \"https://www.politico.com/news/2020/01/22/flynn-attorneys-argue-against-jail-time-for-former-national-security-adviser-102164\"\n",
        "news_summarizer(url)"
      ],
      "execution_count": 0,
      "outputs": [
        {
          "output_type": "stream",
          "text": [
            "Former national security adviser Michael Flynn should get probation and no jail time if he’s sentenced next month on a felony false-statement charge he pleaded guilty to in special counsel Robert Mueller’s investigation, Flynn’s lawyers told a federal judge Wednesday.Attorneys for Flynn argued in a new court filing that he deserves leniency for his more than three decades of Army service before taking a top job in President Donald Trump’s White House. The former three-star general’s tenure in the Trump administration was short-lived after he wound up in the crosshairs of investigators for his statements to the FBI in the early stages of its investigation into links between the Trump campaign and Russia.“Mr. Flynn dedicated his life to serving his country,” Flynn lawyer Sidney Powell and her co-counsel wrote. “While the defendants in other cases cited by the government were working to benefit themselves, Mr. Flynn wrote a blank check on his life and put himself in harm’s way for more than five years in foreign deployments and thirty-three years of service to protect all Americans.”Flynn’s lawyers’ Wednesday filing urged U.S. District Court Judge Emmet Sullivan to spare Flynn prison time, essentially a backup plan if the attorneys fail in the central thrust of their current strategy: trying to get Sullivan to unwind Flynn’s guilty plea on the grounds that he was essentially tricked into it by conniving prosecutors and by inept lawyers whom he replaced last year.“There should be no sentencing,” Flynn’s defense contends bluntly in the new brief.After the switch in Flynn’s legal team, his defense lawyers began airing increasingly strident allegations of prosecutorial misconduct against the main attorney who handled the case for Mueller, Brandon Van Grack, as well as FBI agents and others.That campaign culminated last week in a formal motion from Flynn’s defense to withdraw the guilty plea he tendered in December 2017 when he became the only Trump administration official charged in the Mueller probe.After that motion, Sullivan put off Flynn’s long-delayed sentencing by about a month, to Feb. 27. The judge agreed to another filing from the defense this week and will receive the government’s official response early next month, but he has also left the sentencing on the calendar, necessitating the filing from Flynn’s lawyers Wednesday recommending a sentence.In arguing for probation and community service for the former Defense Intelligence Agency chief who lasted just 25 days as national security adviser before being fired by Trump, the defense team also railed against the conduct of the prosecution — and, specifically, Van Grack, who is continuing to handle the case now in a special capacity for the U.S. attorney’s office in Washington.The defense brief bristles with anger over the prosecution’s decision to step back from an acknowledgment in 2018 that Flynn provided “substantial assistance” to Mueller’s probe and other investigations. Prosecutors said a change in stance by Flynn about admissions he made regarding paid advocacy work he did for Turkish interests during the 2016 campaign amounted to a reversal on his part and set back the prosecution of one of Flynn’s former business partners, Bijan Rafiekian.However, Flynn’s legal team says the government was trying to bully him into lying about the events surrounding the Turkey-related lobbying project.“That the government now tries to walk back its position regarding Mr. Flynn is purely retaliation and vindictiveness by the prosecution,” the defense added. “Mr. Van Grack’s attempt to punish Mr. Flynn for rejecting his insistence to commit perjury is a pedagogical example of ‘actual vindictiveness.’”Powell argues that if Flynn’s assistance was “substantial” two years ago, it remains so today despite the recent blowup with prosecutors.“This Court should swiftly reject the government’s brazen attempt to punish Mr. Flynn for refusing to compose rather than sing,” Powell wrote. “The reversal of its sentencing position is not only unjust, it is unlawful. If left unchecked, it will send a dangerous message to cooperators — give testimony consistent with the government’s theory of the case, regardless of veracity, or pay the price with your freedom.”At an initial sentencing hearing in December 2018, the prosecution did not oppose the defense’s proposal that Flynn get probation, which is a common sentence in false-statement cases. However, Sullivan sent signals that he was considering sentencing Flynn to some time behind bars. While sentencing guidelines call for a sentence of zero to six months in custody, the judge can impose a term up to five years.That sentencing was postponed to allow Flynn to cooperate further with the government by testifying at Rafiekian’s trial. But that testimony never happened after prosecutors decided to drop Flynn from their case.The defense also took issue Wednesday with prosecutors’ suggestion in a recent filing that Sullivan may wish to consider that another Mueller probe defendant, former deputy campaign chairman Rick Gates, got a 45-day prison sentence after pleading guilty to conspiracy and false statements.Flynn’s lawyers noted that while Gates pleaded guilty to embarking on a series of financial and foreign agent-related crimes with former Trump campaign chairman Paul Manafort, Flynn pleaded guilty to just one count of making false statements.“While Mr. Flynn was overseas protecting our country and supporting his family on a military salary, Mr. Gates was conspiring to make himself and Mr. Manafort millions through tax evasion,” Powell wrote.The Flynn case could have yet another twist. Trump has the power to wipe out any sentence Flynn receives by granting him a pardon, something some of the retired military official’s family members have long been calling for. The president to date has dodged questions about the prospects of a pardon for his former aide while still repeatedly expressing support for him.\n",
            "5988\n"
          ],
          "name": "stdout"
        },
        {
          "output_type": "execute_result",
          "data": {
            "text/plain": [
              "'Former national security adviser Michael Flynn should get probation and no jail time if he’s sentenced next month on a felony false-statement charge he pleaded guilty to in special counsel Robert Mueller’s investigation, Flynn’s lawyers told a federal judge Wednesday.Attorneys for Flynn argued in a new court filing that he deserves leniency for his more than three decades of Army service before taking a top job in President Donald Trump’s White House. The former three-star general’s tenure in the Trump administration was short-lived after he wound up in the crosshairs of investigators for his statements to the FBI in the early stages of its investigation into links between the Trump campaign and Russia.“Mr. Flynn dedicated his life to serving his country,” Flynn lawyer Sidney Powell and her co-counsel wrote. “While the defendants in other cases cited by the government were working to benefit themselves, Mr. Flynn wrote a blank check on his life and put himself in harm’s way for more than five years in foreign deployments and thirty-three years of service to protect all Americans.”Flynn’s lawyers’ Wednesday filing urged U.S. District Court Judge Emmet Sullivan to spare Flynn prison time, essentially a backup plan if the attorneys fail in the central thrust of their current strategy: trying to get Sullivan to unwind Flynn’s guilty plea on the grounds that he was essentially tricked into it by conniving prosecutors and by inept lawyers whom he replaced last year.“There should be no sentencing,” Flynn’s defense contends bluntly in the new brief.After the switch in Flynn’s legal team, his defense lawyers began airing increasingly strident allegations of prosecutorial misconduct against the main attorney who handled the case for Mueller, Brandon Van Grack, as well as FBI agents and others.That campaign culminated last week in a formal motion from Flynn’s defense to withdraw the guilty plea he tendered in December 2017 when he became the only Trump administration official charged in the Mueller probe.After that motion, Sullivan put off Flynn’s long-delayed sentencing by about a month, to Feb. 27. The judge agreed to another filing from the defense this week and will receive the government’s official response early next month, but he has also left the sentencing on the calendar, necessitating the filing from Flynn’s lawyers Wednesday recommending a sentence.In arguing for probation and community service for the former Defense Intelligence Agency chief who lasted just 25 days as national security adviser before being fired by Trump, the defense team also railed against the conduct of the prosecution — and, specifically, Van Grack, who is continuing to handle the case now in a special capacity for the U.S. attorney’s office in Washington.The defense brief bristles with anger over the prosecution’s decision to step back from an acknowledgment in 2018 that Flynn provided “substantial assistance” to Mueller’s probe and other investigations. Prosecutors said a change in stance by Flynn about admissions he made regarding paid advocacy work he did for Turkish interests during the 2016 campaign amounted to a reversal on his part and set back the prosecution of one of Flynn’s former business partners, Bijan Rafiekian.However, Flynn’s legal team says the government was trying to bully him into lying about the events surrounding the Turkey-related lobbying project.“That the government now tries to walk back its position regarding Mr. Flynn is purely retaliation and vindictiveness by the prosecution,” the defense added. “Mr. Van Grack’s attempt to punish Mr. Flynn for rejecting his insistence to commit perjury is a pedagogical example of ‘actual vindictiveness.’”Powell argues that if Flynn’s assistance was “substantial” two years ago, it remains so today despite the recent blowup with prosecutors.“This Court should swiftly reject the government’s brazen attempt to punish Mr. Flynn for refusing to compose rather than sing,” Powell wrote. “The reversal of its sentencing position is not only unjust, it is unlawful. If left unchecked, it will send a dangerous message to cooperators — give testimony consistent with the government’s theory of the case, regardless of veracity, or pay the price with your freedom.”At an initial sentencing hearing in December 2018, the prosecution did not oppose the defense’s proposal that Flynn get probation, which is a common sentence in false-statement cases. However, Sullivan sent signals that he was considering sentencing Flynn to some time behind bars. While sentencing guidelines call for a sentence of zero to six months in custody, the judge can impose a term up to five years.That sentencing was postponed to allow Flynn to cooperate further with the government by testifying at Rafiekian’s trial. But that testimony never happened after prosecutors decided to drop Flynn from their case.The defense also took issue Wednesday with prosecutors’ suggestion in a recent filing that Sullivan may wish to consider that another Mueller probe defendant, former deputy campaign chairman Rick Gates, got a 45-day prison sentence after pleading guilty to conspiracy and false statements.Flynn’s lawyers noted that while Gates pleaded guilty to embarking on a series of financial and foreign agent-related crimes with former Trump campaign chairman Paul Manafort, Flynn pleaded guilty to just one count of making false statements.“While Mr. Flynn was overseas protecting our country and supporting his family on a military salary, Mr. Gates was conspiring to make himself and Mr. Manafort millions through tax evasion,” Powell wrote.The Flynn case could have yet another twist. Trump has the power to wipe out any sentence Flynn receives by granting him a pardon, something some of the retired military official’s family members have long been calling for. The president to date has dodged questions about the prospects of a pardon for his former aide while still repeatedly expressing support for him.'"
            ]
          },
          "metadata": {
            "tags": []
          },
          "execution_count": 30
        }
      ]
    },
    {
      "cell_type": "code",
      "metadata": {
        "id": "Dq48xC3OEfoz",
        "colab_type": "code",
        "colab": {}
      },
      "source": [
        "!pip install pytorch-transformers"
      ],
      "execution_count": 0,
      "outputs": []
    },
    {
      "cell_type": "code",
      "metadata": {
        "id": "x0_up9FIEfxT",
        "colab_type": "code",
        "colab": {}
      },
      "source": [
        "import torch\n",
        "from pytorch_transformers import XLNetConfig, XLNetTokenizer, XLNetModel\n",
        "\n",
        "#XLNetModel\n",
        "xlnet_tokenizer = XLNetTokenizer.from_pretrained('xlnet-large-cased')\n",
        "xlnet_model = XLNetModel.from_pretrained('xlnet-large-cased')\n",
        "xlnet_model.eval()\n"
      ],
      "execution_count": 0,
      "outputs": []
    },
    {
      "cell_type": "code",
      "metadata": {
        "id": "3BCO5jqbEf2B",
        "colab_type": "code",
        "outputId": "4a1d0e58-ef23-4f8e-8263-ee3252c79f16",
        "colab": {
          "base_uri": "https://localhost:8080/",
          "height": 51
        }
      },
      "source": [
        "#KMeans clustering\n",
        "from sklearn.cluster import KMeans\n",
        "from sklearn.metrics import pairwise_distances_argmin_min\n",
        "\n",
        "#Sentence tokenization\n",
        "import nltk\n",
        "from nltk.tokenize import sent_tokenize\n",
        "nltk.download('punkt')\n",
        "\n",
        "from tqdm import tqdm, trange\n",
        "import pandas as pd\n",
        "import io\n",
        "import numpy as np\n",
        "import matplotlib.pyplot as plt"
      ],
      "execution_count": 0,
      "outputs": [
        {
          "output_type": "stream",
          "text": [
            "[nltk_data] Downloading package punkt to /root/nltk_data...\n",
            "[nltk_data]   Unzipping tokenizers/punkt.zip.\n"
          ],
          "name": "stdout"
        }
      ]
    },
    {
      "cell_type": "code",
      "metadata": {
        "id": "CY2qbHsSEf5s",
        "colab_type": "code",
        "colab": {}
      },
      "source": [
        "#get article content CHANGE TO WEBSCRAPER\n",
        "#sentence tokenization\n",
        "article_sentences=sent_tokenize(news_summarizer(\"https://www.theglobeandmail.com/world/us-politics/article-us-senate-opens-president-trumps-impeachment-trial/\"))\n",
        "\n",
        "article_sentences"
      ],
      "execution_count": 0,
      "outputs": []
    },
    {
      "cell_type": "code",
      "metadata": {
        "id": "IeKFVOBPEf8h",
        "colab_type": "code",
        "colab": {}
      },
      "source": [
        "#Function get_article_encodings() - encodes article sentences using xlnet, xlnetlmhead, or bert\n",
        "def get_article_encodings(article_sentences, encoding_tokenizer, encoding_model):\n",
        "  article_encodings=[]\n",
        "  for sentence in article_sentences:\n",
        "    input_ids = torch.tensor(encoding_tokenizer.encode(sentence)).unsqueeze(0)  # Batch size 1\n",
        "    outputs = encoding_model(input_ids)\n",
        "    last_hidden_states = outputs[0]  # The last hidden-state is the first element of the output tuple\n",
        "    #print(last_hidden_states.shape, type(last_hidden_states), last_hidden_states)\n",
        "    mean_last_hidden_states = last_hidden_states.mean(-2)\n",
        "    #print(mean_last_hidden_states.shape, type(mean_last_hidden_states), mean_last_hidden_states)\n",
        "    article_encodings.append(mean_last_hidden_states.data)\n",
        "  article_encodings = torch.stack(article_encodings)\n",
        "  article_encodings = torch.squeeze(article_encodings, dim=1)\n",
        "  print(article_encodings.shape, type(article_encodings), article_encodings)\n",
        "  return article_encodings"
      ],
      "execution_count": 0,
      "outputs": []
    },
    {
      "cell_type": "code",
      "metadata": {
        "id": "bXXpHd0cEf_H",
        "colab_type": "code",
        "colab": {}
      },
      "source": [
        "#Function cluster_article_encodings - clusters article sentences encoding to ceiling of the sqrt of the number of article sentences\n",
        "# and returns the sentences that are closest to the centroid of each cluster\n",
        "def cluster_article_encodings(article_sentences, article_encodings, n=3):\n",
        "  n_clusters = int(np.ceil(len(article_sentences)**0.5))\n",
        "  print(n_clusters)\n",
        "  kmeans = KMeans(n_clusters=n_clusters, random_state=0)\n",
        "  kmeans = kmeans.fit(article_encodings)\n",
        "  y_kmeans = kmeans.predict(article_encodings)\n",
        "  print(y_kmeans)\n",
        "  avg = []\n",
        "  closest = []\n",
        "  for j in range(n_clusters):\n",
        "    idx = np.where(kmeans.labels_ == j)[0]\n",
        "    avg.append(np.mean(idx))\n",
        "  closest, _ = pairwise_distances_argmin_min(kmeans.cluster_centers_, article_encodings)\n",
        "  ordering = sorted(range(n_clusters), key=lambda k: avg[k])\n",
        "  summary = '\\n'.join([article_sentences[closest[idx]] for idx in ordering])\n",
        "  print(summary)\n",
        "  return kmeans, y_kmeans, summary"
      ],
      "execution_count": 0,
      "outputs": []
    },
    {
      "cell_type": "code",
      "metadata": {
        "id": "te1ZuBnTEgD8",
        "colab_type": "code",
        "colab": {}
      },
      "source": [
        "#Function plot_clusters - plots the clusters\n",
        "def plot_clusters(article_encodings, kmeans, y_kmeans):\n",
        "  plt.scatter(article_encodings[:, 0], article_encodings[:, 1], c=y_kmeans, s=50, cmap='viridis')\n",
        "  centers = kmeans.cluster_centers_\n",
        "  plt.scatter(centers[:, 0], centers[:, 1], c='black', s=200, alpha=0.5);"
      ],
      "execution_count": 0,
      "outputs": []
    },
    {
      "cell_type": "code",
      "metadata": {
        "id": "0iQXYaNVEgIU",
        "colab_type": "code",
        "outputId": "2ad42d28-76e5-4049-9b30-500ca1b67249",
        "colab": {
          "base_uri": "https://localhost:8080/",
          "height": 523
        }
      },
      "source": [
        "#trying xlnet_model\n",
        "article_encodings = get_article_encodings(article_sentences, xlnet_tokenizer, xlnet_model)\n",
        "kmeans, y_kmeans, summary = cluster_article_encodings(article_sentences, article_encodings)\n",
        "plot_clusters(article_encodings, kmeans, y_kmeans)"
      ],
      "execution_count": 0,
      "outputs": [
        {
          "output_type": "stream",
          "text": [
            "torch.Size([21, 1024]) <class 'torch.Tensor'> tensor([[ 0.1873,  0.4511, -0.0031,  ..., -0.1462, -1.0672,  0.7276],\n",
            "        [ 0.4640,  0.4578, -0.2048,  ...,  0.2254, -0.3387,  0.7448],\n",
            "        [ 0.2108,  0.3639,  0.2266,  ...,  0.0444, -1.2032,  0.6865],\n",
            "        ...,\n",
            "        [ 0.6406,  0.7179,  0.3008,  ..., -1.9025,  1.2160,  2.7828],\n",
            "        [-1.1756,  1.3824,  0.6392,  ...,  0.4552, -1.8172,  2.6404],\n",
            "        [ 0.1188,  0.6210,  0.8810,  ...,  0.0696,  0.3285, -0.0542]])\n",
            "5\n",
            "[0 0 1 1 0 3 1 3 3 3 1 0 0 3 3 1 1 3 4 2 0]\n",
            "The U.S. Senate has begun the third presidential impeachment trial in American history, weighing accusations that Donald Trump violated the Constitution by orchestrating a campaign to push Ukraine to interfere in this year’s election.Hours before proceedings got under way in the Capitol on Thursday, a congressional watchdog concluded that the White House broke the law by withholding military aid to Kyiv to crank up the pressure.Ukraine, for its part, announced it would open an investigation into new allegations that a congressional candidate working with Mr. Trump’s emissaries conducted a surveillance campaign of a U.S. diplomat in the country who they believed was getting in the way of the pressure campaign.The contours of the trial – such as whether it will hear from witnesses and how long it will take – remained up in the air.In the early afternoon, Adam Schiff led a group of seven Democratic members of the House of Representatives who will serve as de facto prosecutors to the Senate to formally deliver the articles of impeachment.“President Trump … has demonstrated that he will remain a threat to the Constitution if allowed to remain in office, and has acted in a manner grossly incompatible with self-governance and the rule of law,” Mr. Schiff told the chamber.Chief Justice John Roberts crossed the street from the Supreme Court to the Capitol to take his place presiding over the trial.\n",
            "In Mr. Clinton’s case, the witnesses gave testimony in videotaped depositions that were then shown to the senators.\n",
            "“I JUST GOT IMPEACHED FOR MAKING A PERFECT PHONE CALL!” he later tweeted.The Republican-majority Senate would have to vote two-thirds to convict Mr. Trump for him to be kicked out of office.Mitch McConnell, the Republican caucus chief, has said he would work with the White House to make sure Mr. Trump remains in office.“I’m not an impartial juror,” he told reporters last month.\n",
            "Perhaps he’s a fine man.\n",
            "Perhaps not,” Mr. Trump said.\n"
          ],
          "name": "stdout"
        },
        {
          "output_type": "display_data",
          "data": {
            "image/png": "[encoded data removed]",
            "text/plain": [
              "<Figure size 432x288 with 1 Axes>"
            ]
          },
          "metadata": {
            "tags": []
          }
        }
      ]
    },
    {
      "cell_type": "code",
      "metadata": {
        "id": "whFscPJuEgMJ",
        "colab_type": "code",
        "colab": {}
      },
      "source": [
        ""
      ],
      "execution_count": 0,
      "outputs": []
    },
    {
      "cell_type": "code",
      "metadata": {
        "id": "rQrbpJRCEgKi",
        "colab_type": "code",
        "colab": {}
      },
      "source": [
        ""
      ],
      "execution_count": 0,
      "outputs": []
    },
    {
      "cell_type": "code",
      "metadata": {
        "id": "4iYRTBSHEgGv",
        "colab_type": "code",
        "outputId": "6eadcdb8-c444-4449-f416-d997bfe27cfa",
        "colab": {
          "base_uri": "https://localhost:8080/",
          "height": 825
        }
      },
      "source": [
        "!apt install chromium-chromedriver\n",
        "!cp /usr/lib/chromium-browser/chromedriver /usr/bin"
      ],
      "execution_count": 0,
      "outputs": [
        {
          "output_type": "stream",
          "text": [
            "Reading package lists... Done\n",
            "Building dependency tree       \n",
            "Reading state information... Done\n",
            "The following package was automatically installed and is no longer required:\n",
            "  libnvidia-common-430\n",
            "Use 'apt autoremove' to remove it.\n",
            "The following additional packages will be installed:\n",
            "  chromium-browser chromium-browser-l10n chromium-codecs-ffmpeg-extra\n",
            "Suggested packages:\n",
            "  webaccounts-chromium-extension unity-chromium-extension adobe-flashplugin\n",
            "The following NEW packages will be installed:\n",
            "  chromium-browser chromium-browser-l10n chromium-chromedriver\n",
            "  chromium-codecs-ffmpeg-extra\n",
            "0 upgraded, 4 newly installed, 0 to remove and 7 not upgraded.\n",
            "Need to get 72.7 MB of archives.\n",
            "After this operation, 259 MB of additional disk space will be used.\n",
            "Get:1 http://archive.ubuntu.com/ubuntu bionic-updates/universe amd64 chromium-codecs-ffmpeg-extra amd64 79.0.3945.79-0ubuntu0.18.04.1 [1,079 kB]\n",
            "Get:2 http://archive.ubuntu.com/ubuntu bionic-updates/universe amd64 chromium-browser amd64 79.0.3945.79-0ubuntu0.18.04.1 [64.5 MB]\n",
            "Get:3 http://archive.ubuntu.com/ubuntu bionic-updates/universe amd64 chromium-browser-l10n all 79.0.3945.79-0ubuntu0.18.04.1 [3,094 kB]\n",
            "Get:4 http://archive.ubuntu.com/ubuntu bionic-updates/universe amd64 chromium-chromedriver amd64 79.0.3945.79-0ubuntu0.18.04.1 [3,976 kB]\n",
            "Fetched 72.7 MB in 9s (7,726 kB/s)\n",
            "Selecting previously unselected package chromium-codecs-ffmpeg-extra.\n",
            "(Reading database ... 135004 files and directories currently installed.)\n",
            "Preparing to unpack .../chromium-codecs-ffmpeg-extra_79.0.3945.79-0ubuntu0.18.04.1_amd64.deb ...\n",
            "Unpacking chromium-codecs-ffmpeg-extra (79.0.3945.79-0ubuntu0.18.04.1) ...\n",
            "Selecting previously unselected package chromium-browser.\n",
            "Preparing to unpack .../chromium-browser_79.0.3945.79-0ubuntu0.18.04.1_amd64.deb ...\n",
            "Unpacking chromium-browser (79.0.3945.79-0ubuntu0.18.04.1) ...\n",
            "Selecting previously unselected package chromium-browser-l10n.\n",
            "Preparing to unpack .../chromium-browser-l10n_79.0.3945.79-0ubuntu0.18.04.1_all.deb ...\n",
            "Unpacking chromium-browser-l10n (79.0.3945.79-0ubuntu0.18.04.1) ...\n",
            "Selecting previously unselected package chromium-chromedriver.\n",
            "Preparing to unpack .../chromium-chromedriver_79.0.3945.79-0ubuntu0.18.04.1_amd64.deb ...\n",
            "Unpacking chromium-chromedriver (79.0.3945.79-0ubuntu0.18.04.1) ...\n",
            "Setting up chromium-codecs-ffmpeg-extra (79.0.3945.79-0ubuntu0.18.04.1) ...\n",
            "Setting up chromium-browser (79.0.3945.79-0ubuntu0.18.04.1) ...\n",
            "update-alternatives: using /usr/bin/chromium-browser to provide /usr/bin/x-www-browser (x-www-browser) in auto mode\n",
            "update-alternatives: using /usr/bin/chromium-browser to provide /usr/bin/gnome-www-browser (gnome-www-browser) in auto mode\n",
            "Setting up chromium-chromedriver (79.0.3945.79-0ubuntu0.18.04.1) ...\n",
            "Setting up chromium-browser-l10n (79.0.3945.79-0ubuntu0.18.04.1) ...\n",
            "Processing triggers for hicolor-icon-theme (0.17-2) ...\n",
            "Processing triggers for mime-support (3.60ubuntu1) ...\n",
            "Processing triggers for man-db (2.8.3-2ubuntu0.1) ...\n",
            "cp: '/usr/lib/chromium-browser/chromedriver' and '/usr/bin/chromedriver' are the same file\n"
          ],
          "name": "stdout"
        }
      ]
    },
    {
      "cell_type": "code",
      "metadata": {
        "id": "5i6t-vhHEgB5",
        "colab_type": "code",
        "colab": {}
      },
      "source": [
        ""
      ],
      "execution_count": 0,
      "outputs": []
    }
  ]
}